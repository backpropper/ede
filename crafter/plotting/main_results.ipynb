{
 "cells": [
  {
   "cell_type": "code",
   "execution_count": 8,
   "metadata": {},
   "outputs": [],
   "source": [
    "import matplotlib\n",
    "import matplotlib.pyplot as plt\n",
    "import seaborn as sns\n",
    "from matplotlib.patches import Rectangle\n",
    "from matplotlib.pyplot import figure, show\n",
    "import matplotlib.patches as patches\n",
    "import copy\n",
    "import numpy as np\n",
    "import common\n",
    "import os\n",
    "import json\n",
    "import pandas as pd"
   ]
  },
  {
   "cell_type": "code",
   "execution_count": 2,
   "metadata": {},
   "outputs": [],
   "source": [
    "# crafter."
   ]
  },
  {
   "cell_type": "code",
   "execution_count": 3,
   "metadata": {},
   "outputs": [],
   "source": [
    "def print_scores(inpaths, legend, budget=1e6, sort=False):\n",
    "  runs = common.load_runs(inpaths, budget)\n",
    "  percents, methods, seeds, tasks = common.compute_success_rates(runs, budget)\n",
    "  scores = common.compute_scores(percents)\n",
    "  if not legend:\n",
    "    methods = sorted(set(run['method'] for run in runs))\n",
    "    legend = {x: x.replace('_', ' ').title() for x in methods}\n",
    "\n",
    "  scores = scores[np.array([methods.index(m) for m in legend.keys()])]\n",
    "  means = np.nanmean(scores, -1)\n",
    "  stds = np.nanstd(scores, -1)\n",
    "\n",
    "  print('')\n",
    "  print(r'\\textbf{Method} & \\textbf{Score} \\\\')\n",
    "  print('')\n",
    "  for method, mean, std in zip(legend.values(), means, stds):\n",
    "    mean = f'{mean:.1f}'\n",
    "    mean = (r'\\o' if len(mean) < 4 else ' ') + mean\n",
    "    print(rf'{method:<25} & ${mean} \\pm {std:4.1f}\\%$ \\\\')\n",
    "  print('')"
   ]
  },
  {
   "cell_type": "code",
   "execution_count": 4,
   "metadata": {},
   "outputs": [],
   "source": [
    "base = '../logs/22_09_09-18_20_all_seed'\n",
    "input_path = os.listdir(base)\n",
    "full_input_path = [os.path.join(base, p, 'crafter-episodes') for p in input_path if 'ucb_c_0.3' in p and 'batch-size_64' in p]"
   ]
  },
  {
   "cell_type": "code",
   "execution_count": 5,
   "metadata": {},
   "outputs": [
    {
     "name": "stdout",
     "output_type": "stream",
     "text": [
      "['../logs/22_09_09-18_20_all_seed/22_09_09-18_20_all_seed_batch-size_64_seed_6_ucb_c_0.3/crafter-episodes/stats.jsonl-7-20220910T013456', '../logs/22_09_09-18_20_all_seed/22_09_09-18_20_all_seed_batch-size_64_seed_7_ucb_c_0.3/crafter-episodes/stats.jsonl-7-20220910T013455', '../logs/22_09_09-18_20_all_seed/22_09_09-18_20_all_seed_batch-size_64_seed_3_ucb_c_0.3/crafter-episodes/stats.jsonl-7-20220910T013457', '../logs/22_09_09-18_20_all_seed/22_09_09-18_20_all_seed_batch-size_64_seed_4_ucb_c_0.3/crafter-episodes/stats.jsonl-7-20220910T013500', '../logs/22_09_09-18_20_all_seed/22_09_09-18_20_all_seed_batch-size_64_seed_0_ucb_c_0.3/crafter-episodes/stats.jsonl-7-20220910T013502', '../logs/22_09_09-18_20_all_seed/22_09_09-18_20_all_seed_batch-size_64_seed_1_ucb_c_0.3/crafter-episodes/stats.jsonl-7-20220910T013503', '../logs/22_09_09-18_20_all_seed/22_09_09-18_20_all_seed_batch-size_64_seed_2_ucb_c_0.3/crafter-episodes/stats.jsonl-7-20220910T013455', '../logs/22_09_09-18_20_all_seed/22_09_09-18_20_all_seed_batch-size_64_seed_8_ucb_c_0.3/crafter-episodes/stats.jsonl-7-20220910T013457', '../logs/22_09_09-18_20_all_seed/22_09_09-18_20_all_seed_batch-size_64_seed_9_ucb_c_0.3/crafter-episodes/stats.jsonl-7-20220910T013503', '../logs/22_09_09-18_20_all_seed/22_09_09-18_20_all_seed_batch-size_64_seed_5_ucb_c_0.3/crafter-episodes/stats.jsonl-7-20220910T013454']\n"
     ]
    }
   ],
   "source": [
    "# base\n",
    "full_episode_path = []\n",
    "for p in full_input_path:\n",
    "    for j in os.listdir(p):\n",
    "        if 'jsonl-7' in j:\n",
    "            full_episode_path.append(os.path.join(p, j))\n",
    "print(full_episode_path)"
   ]
  },
  {
   "cell_type": "code",
   "execution_count": 9,
   "metadata": {},
   "outputs": [],
   "source": [
    "# with open(full_episode_path[0], 'r') as json_file:\n",
    "#     json_list = list(json_file)\n",
    "\n",
    "df = pd.read_json(path_or_buf=full_episode_path[0], lines=True)"
   ]
  },
  {
   "cell_type": "code",
   "execution_count": 10,
   "metadata": {},
   "outputs": [
    {
     "data": {
      "text/html": [
       "<div>\n",
       "<style scoped>\n",
       "    .dataframe tbody tr th:only-of-type {\n",
       "        vertical-align: middle;\n",
       "    }\n",
       "\n",
       "    .dataframe tbody tr th {\n",
       "        vertical-align: top;\n",
       "    }\n",
       "\n",
       "    .dataframe thead th {\n",
       "        text-align: right;\n",
       "    }\n",
       "</style>\n",
       "<table border=\"1\" class=\"dataframe\">\n",
       "  <thead>\n",
       "    <tr style=\"text-align: right;\">\n",
       "      <th></th>\n",
       "      <th>length</th>\n",
       "      <th>reward</th>\n",
       "      <th>achievement_collect_coal</th>\n",
       "      <th>achievement_collect_diamond</th>\n",
       "      <th>achievement_collect_drink</th>\n",
       "      <th>achievement_collect_iron</th>\n",
       "      <th>achievement_collect_sapling</th>\n",
       "      <th>achievement_collect_stone</th>\n",
       "      <th>achievement_collect_wood</th>\n",
       "      <th>achievement_defeat_skeleton</th>\n",
       "      <th>...</th>\n",
       "      <th>achievement_make_iron_sword</th>\n",
       "      <th>achievement_make_stone_pickaxe</th>\n",
       "      <th>achievement_make_stone_sword</th>\n",
       "      <th>achievement_make_wood_pickaxe</th>\n",
       "      <th>achievement_make_wood_sword</th>\n",
       "      <th>achievement_place_furnace</th>\n",
       "      <th>achievement_place_plant</th>\n",
       "      <th>achievement_place_stone</th>\n",
       "      <th>achievement_place_table</th>\n",
       "      <th>achievement_wake_up</th>\n",
       "    </tr>\n",
       "  </thead>\n",
       "  <tbody>\n",
       "    <tr>\n",
       "      <th>0</th>\n",
       "      <td>158</td>\n",
       "      <td>7.1</td>\n",
       "      <td>0</td>\n",
       "      <td>0</td>\n",
       "      <td>2</td>\n",
       "      <td>0</td>\n",
       "      <td>2</td>\n",
       "      <td>0</td>\n",
       "      <td>2</td>\n",
       "      <td>0</td>\n",
       "      <td>...</td>\n",
       "      <td>0</td>\n",
       "      <td>0</td>\n",
       "      <td>0</td>\n",
       "      <td>0</td>\n",
       "      <td>0</td>\n",
       "      <td>0</td>\n",
       "      <td>2</td>\n",
       "      <td>0</td>\n",
       "      <td>1</td>\n",
       "      <td>1</td>\n",
       "    </tr>\n",
       "    <tr>\n",
       "      <th>1</th>\n",
       "      <td>208</td>\n",
       "      <td>8.1</td>\n",
       "      <td>0</td>\n",
       "      <td>0</td>\n",
       "      <td>0</td>\n",
       "      <td>0</td>\n",
       "      <td>4</td>\n",
       "      <td>2</td>\n",
       "      <td>7</td>\n",
       "      <td>0</td>\n",
       "      <td>...</td>\n",
       "      <td>0</td>\n",
       "      <td>0</td>\n",
       "      <td>0</td>\n",
       "      <td>1</td>\n",
       "      <td>0</td>\n",
       "      <td>0</td>\n",
       "      <td>2</td>\n",
       "      <td>1</td>\n",
       "      <td>2</td>\n",
       "      <td>1</td>\n",
       "    </tr>\n",
       "    <tr>\n",
       "      <th>2</th>\n",
       "      <td>227</td>\n",
       "      <td>8.1</td>\n",
       "      <td>0</td>\n",
       "      <td>0</td>\n",
       "      <td>0</td>\n",
       "      <td>0</td>\n",
       "      <td>1</td>\n",
       "      <td>12</td>\n",
       "      <td>6</td>\n",
       "      <td>0</td>\n",
       "      <td>...</td>\n",
       "      <td>0</td>\n",
       "      <td>0</td>\n",
       "      <td>0</td>\n",
       "      <td>1</td>\n",
       "      <td>0</td>\n",
       "      <td>0</td>\n",
       "      <td>1</td>\n",
       "      <td>11</td>\n",
       "      <td>1</td>\n",
       "      <td>1</td>\n",
       "    </tr>\n",
       "    <tr>\n",
       "      <th>3</th>\n",
       "      <td>405</td>\n",
       "      <td>9.1</td>\n",
       "      <td>0</td>\n",
       "      <td>0</td>\n",
       "      <td>44</td>\n",
       "      <td>0</td>\n",
       "      <td>5</td>\n",
       "      <td>1</td>\n",
       "      <td>6</td>\n",
       "      <td>0</td>\n",
       "      <td>...</td>\n",
       "      <td>0</td>\n",
       "      <td>0</td>\n",
       "      <td>0</td>\n",
       "      <td>1</td>\n",
       "      <td>0</td>\n",
       "      <td>0</td>\n",
       "      <td>1</td>\n",
       "      <td>1</td>\n",
       "      <td>1</td>\n",
       "      <td>1</td>\n",
       "    </tr>\n",
       "    <tr>\n",
       "      <th>4</th>\n",
       "      <td>162</td>\n",
       "      <td>10.1</td>\n",
       "      <td>2</td>\n",
       "      <td>0</td>\n",
       "      <td>0</td>\n",
       "      <td>0</td>\n",
       "      <td>1</td>\n",
       "      <td>2</td>\n",
       "      <td>7</td>\n",
       "      <td>0</td>\n",
       "      <td>...</td>\n",
       "      <td>0</td>\n",
       "      <td>0</td>\n",
       "      <td>0</td>\n",
       "      <td>1</td>\n",
       "      <td>2</td>\n",
       "      <td>0</td>\n",
       "      <td>1</td>\n",
       "      <td>1</td>\n",
       "      <td>2</td>\n",
       "      <td>1</td>\n",
       "    </tr>\n",
       "    <tr>\n",
       "      <th>...</th>\n",
       "      <td>...</td>\n",
       "      <td>...</td>\n",
       "      <td>...</td>\n",
       "      <td>...</td>\n",
       "      <td>...</td>\n",
       "      <td>...</td>\n",
       "      <td>...</td>\n",
       "      <td>...</td>\n",
       "      <td>...</td>\n",
       "      <td>...</td>\n",
       "      <td>...</td>\n",
       "      <td>...</td>\n",
       "      <td>...</td>\n",
       "      <td>...</td>\n",
       "      <td>...</td>\n",
       "      <td>...</td>\n",
       "      <td>...</td>\n",
       "      <td>...</td>\n",
       "      <td>...</td>\n",
       "      <td>...</td>\n",
       "      <td>...</td>\n",
       "    </tr>\n",
       "    <tr>\n",
       "      <th>545</th>\n",
       "      <td>369</td>\n",
       "      <td>11.1</td>\n",
       "      <td>1</td>\n",
       "      <td>0</td>\n",
       "      <td>1</td>\n",
       "      <td>0</td>\n",
       "      <td>1</td>\n",
       "      <td>23</td>\n",
       "      <td>6</td>\n",
       "      <td>0</td>\n",
       "      <td>...</td>\n",
       "      <td>0</td>\n",
       "      <td>0</td>\n",
       "      <td>0</td>\n",
       "      <td>1</td>\n",
       "      <td>1</td>\n",
       "      <td>0</td>\n",
       "      <td>1</td>\n",
       "      <td>18</td>\n",
       "      <td>1</td>\n",
       "      <td>1</td>\n",
       "    </tr>\n",
       "    <tr>\n",
       "      <th>546</th>\n",
       "      <td>223</td>\n",
       "      <td>8.1</td>\n",
       "      <td>0</td>\n",
       "      <td>0</td>\n",
       "      <td>3</td>\n",
       "      <td>0</td>\n",
       "      <td>1</td>\n",
       "      <td>0</td>\n",
       "      <td>10</td>\n",
       "      <td>0</td>\n",
       "      <td>...</td>\n",
       "      <td>0</td>\n",
       "      <td>0</td>\n",
       "      <td>0</td>\n",
       "      <td>1</td>\n",
       "      <td>0</td>\n",
       "      <td>0</td>\n",
       "      <td>1</td>\n",
       "      <td>0</td>\n",
       "      <td>2</td>\n",
       "      <td>2</td>\n",
       "    </tr>\n",
       "    <tr>\n",
       "      <th>547</th>\n",
       "      <td>363</td>\n",
       "      <td>11.1</td>\n",
       "      <td>0</td>\n",
       "      <td>0</td>\n",
       "      <td>2</td>\n",
       "      <td>0</td>\n",
       "      <td>1</td>\n",
       "      <td>14</td>\n",
       "      <td>4</td>\n",
       "      <td>0</td>\n",
       "      <td>...</td>\n",
       "      <td>0</td>\n",
       "      <td>0</td>\n",
       "      <td>0</td>\n",
       "      <td>1</td>\n",
       "      <td>1</td>\n",
       "      <td>0</td>\n",
       "      <td>1</td>\n",
       "      <td>14</td>\n",
       "      <td>1</td>\n",
       "      <td>1</td>\n",
       "    </tr>\n",
       "    <tr>\n",
       "      <th>548</th>\n",
       "      <td>277</td>\n",
       "      <td>6.1</td>\n",
       "      <td>0</td>\n",
       "      <td>0</td>\n",
       "      <td>13</td>\n",
       "      <td>0</td>\n",
       "      <td>3</td>\n",
       "      <td>0</td>\n",
       "      <td>4</td>\n",
       "      <td>0</td>\n",
       "      <td>...</td>\n",
       "      <td>0</td>\n",
       "      <td>0</td>\n",
       "      <td>0</td>\n",
       "      <td>0</td>\n",
       "      <td>0</td>\n",
       "      <td>0</td>\n",
       "      <td>3</td>\n",
       "      <td>0</td>\n",
       "      <td>2</td>\n",
       "      <td>1</td>\n",
       "    </tr>\n",
       "    <tr>\n",
       "      <th>549</th>\n",
       "      <td>302</td>\n",
       "      <td>9.1</td>\n",
       "      <td>0</td>\n",
       "      <td>0</td>\n",
       "      <td>0</td>\n",
       "      <td>0</td>\n",
       "      <td>6</td>\n",
       "      <td>5</td>\n",
       "      <td>10</td>\n",
       "      <td>0</td>\n",
       "      <td>...</td>\n",
       "      <td>0</td>\n",
       "      <td>0</td>\n",
       "      <td>0</td>\n",
       "      <td>1</td>\n",
       "      <td>0</td>\n",
       "      <td>0</td>\n",
       "      <td>1</td>\n",
       "      <td>4</td>\n",
       "      <td>2</td>\n",
       "      <td>1</td>\n",
       "    </tr>\n",
       "  </tbody>\n",
       "</table>\n",
       "<p>550 rows × 24 columns</p>\n",
       "</div>"
      ],
      "text/plain": [
       "     length  reward  achievement_collect_coal  achievement_collect_diamond  \\\n",
       "0       158     7.1                         0                            0   \n",
       "1       208     8.1                         0                            0   \n",
       "2       227     8.1                         0                            0   \n",
       "3       405     9.1                         0                            0   \n",
       "4       162    10.1                         2                            0   \n",
       "..      ...     ...                       ...                          ...   \n",
       "545     369    11.1                         1                            0   \n",
       "546     223     8.1                         0                            0   \n",
       "547     363    11.1                         0                            0   \n",
       "548     277     6.1                         0                            0   \n",
       "549     302     9.1                         0                            0   \n",
       "\n",
       "     achievement_collect_drink  achievement_collect_iron  \\\n",
       "0                            2                         0   \n",
       "1                            0                         0   \n",
       "2                            0                         0   \n",
       "3                           44                         0   \n",
       "4                            0                         0   \n",
       "..                         ...                       ...   \n",
       "545                          1                         0   \n",
       "546                          3                         0   \n",
       "547                          2                         0   \n",
       "548                         13                         0   \n",
       "549                          0                         0   \n",
       "\n",
       "     achievement_collect_sapling  achievement_collect_stone  \\\n",
       "0                              2                          0   \n",
       "1                              4                          2   \n",
       "2                              1                         12   \n",
       "3                              5                          1   \n",
       "4                              1                          2   \n",
       "..                           ...                        ...   \n",
       "545                            1                         23   \n",
       "546                            1                          0   \n",
       "547                            1                         14   \n",
       "548                            3                          0   \n",
       "549                            6                          5   \n",
       "\n",
       "     achievement_collect_wood  achievement_defeat_skeleton  ...  \\\n",
       "0                           2                            0  ...   \n",
       "1                           7                            0  ...   \n",
       "2                           6                            0  ...   \n",
       "3                           6                            0  ...   \n",
       "4                           7                            0  ...   \n",
       "..                        ...                          ...  ...   \n",
       "545                         6                            0  ...   \n",
       "546                        10                            0  ...   \n",
       "547                         4                            0  ...   \n",
       "548                         4                            0  ...   \n",
       "549                        10                            0  ...   \n",
       "\n",
       "     achievement_make_iron_sword  achievement_make_stone_pickaxe  \\\n",
       "0                              0                               0   \n",
       "1                              0                               0   \n",
       "2                              0                               0   \n",
       "3                              0                               0   \n",
       "4                              0                               0   \n",
       "..                           ...                             ...   \n",
       "545                            0                               0   \n",
       "546                            0                               0   \n",
       "547                            0                               0   \n",
       "548                            0                               0   \n",
       "549                            0                               0   \n",
       "\n",
       "     achievement_make_stone_sword  achievement_make_wood_pickaxe  \\\n",
       "0                               0                              0   \n",
       "1                               0                              1   \n",
       "2                               0                              1   \n",
       "3                               0                              1   \n",
       "4                               0                              1   \n",
       "..                            ...                            ...   \n",
       "545                             0                              1   \n",
       "546                             0                              1   \n",
       "547                             0                              1   \n",
       "548                             0                              0   \n",
       "549                             0                              1   \n",
       "\n",
       "     achievement_make_wood_sword  achievement_place_furnace  \\\n",
       "0                              0                          0   \n",
       "1                              0                          0   \n",
       "2                              0                          0   \n",
       "3                              0                          0   \n",
       "4                              2                          0   \n",
       "..                           ...                        ...   \n",
       "545                            1                          0   \n",
       "546                            0                          0   \n",
       "547                            1                          0   \n",
       "548                            0                          0   \n",
       "549                            0                          0   \n",
       "\n",
       "     achievement_place_plant  achievement_place_stone  \\\n",
       "0                          2                        0   \n",
       "1                          2                        1   \n",
       "2                          1                       11   \n",
       "3                          1                        1   \n",
       "4                          1                        1   \n",
       "..                       ...                      ...   \n",
       "545                        1                       18   \n",
       "546                        1                        0   \n",
       "547                        1                       14   \n",
       "548                        3                        0   \n",
       "549                        1                        4   \n",
       "\n",
       "     achievement_place_table  achievement_wake_up  \n",
       "0                          1                    1  \n",
       "1                          2                    1  \n",
       "2                          1                    1  \n",
       "3                          1                    1  \n",
       "4                          2                    1  \n",
       "..                       ...                  ...  \n",
       "545                        1                    1  \n",
       "546                        2                    2  \n",
       "547                        1                    1  \n",
       "548                        2                    1  \n",
       "549                        2                    1  \n",
       "\n",
       "[550 rows x 24 columns]"
      ]
     },
     "execution_count": 10,
     "metadata": {},
     "output_type": "execute_result"
    }
   ],
   "source": [
    "df"
   ]
  },
  {
   "cell_type": "code",
   "execution_count": 13,
   "metadata": {},
   "outputs": [
    {
     "data": {
      "text/plain": [
       "Index(['length', 'reward', 'achievement_collect_coal',\n",
       "       'achievement_collect_diamond', 'achievement_collect_drink',\n",
       "       'achievement_collect_iron', 'achievement_collect_sapling',\n",
       "       'achievement_collect_stone', 'achievement_collect_wood',\n",
       "       'achievement_defeat_skeleton', 'achievement_defeat_zombie',\n",
       "       'achievement_eat_cow', 'achievement_eat_plant',\n",
       "       'achievement_make_iron_pickaxe', 'achievement_make_iron_sword',\n",
       "       'achievement_make_stone_pickaxe', 'achievement_make_stone_sword',\n",
       "       'achievement_make_wood_pickaxe', 'achievement_make_wood_sword',\n",
       "       'achievement_place_furnace', 'achievement_place_plant',\n",
       "       'achievement_place_stone', 'achievement_place_table',\n",
       "       'achievement_wake_up'],\n",
       "      dtype='object')"
      ]
     },
     "execution_count": 13,
     "metadata": {},
     "output_type": "execute_result"
    }
   ],
   "source": [
    "df.columns"
   ]
  },
  {
   "cell_type": "code",
   "execution_count": 14,
   "metadata": {},
   "outputs": [],
   "source": [
    "achievement_names = [a for a in df.columns if 'achievement' in a]"
   ]
  },
  {
   "cell_type": "code",
   "execution_count": 15,
   "metadata": {},
   "outputs": [
    {
     "data": {
      "text/plain": [
       "22"
      ]
     },
     "execution_count": 15,
     "metadata": {},
     "output_type": "execute_result"
    }
   ],
   "source": [
    "len(achievement_names)"
   ]
  },
  {
   "cell_type": "code",
   "execution_count": 25,
   "metadata": {},
   "outputs": [],
   "source": [
    "achievement_df = df[achievement_names]"
   ]
  },
  {
   "cell_type": "code",
   "execution_count": 26,
   "metadata": {},
   "outputs": [],
   "source": [
    "achievement_np = achievement_df.to_numpy()"
   ]
  },
  {
   "cell_type": "code",
   "execution_count": 27,
   "metadata": {},
   "outputs": [],
   "source": [
    "achievement_np = np.clip(achievement_np, 0, 1)"
   ]
  },
  {
   "cell_type": "code",
   "execution_count": 28,
   "metadata": {},
   "outputs": [
    {
     "data": {
      "text/plain": [
       "array([13.27272727,  0.        , 61.81818182,  0.        , 97.09090909,\n",
       "       46.90909091, 97.45454545,  4.54545455, 72.18181818, 69.09090909,\n",
       "        0.18181818,  0.        ,  0.        ,  0.54545455,  1.63636364,\n",
       "       76.36363636, 25.09090909,  0.36363636, 96.18181818, 44.90909091,\n",
       "       94.        , 95.45454545])"
      ]
     },
     "execution_count": 28,
     "metadata": {},
     "output_type": "execute_result"
    }
   ],
   "source": [
    "achievement_np = achievement_np.mean(axis=0) * 100\n",
    "achievement_np"
   ]
  },
  {
   "cell_type": "code",
   "execution_count": null,
   "metadata": {},
   "outputs": [],
   "source": [
    "def log_transform(x):\n",
    "    return np.exp(np.log(1 + x).mean()) - 1"
   ]
  },
  {
   "cell_type": "code",
   "execution_count": 30,
   "metadata": {},
   "outputs": [
    {
     "data": {
      "text/plain": [
       "12.413243402258406"
      ]
     },
     "execution_count": 30,
     "metadata": {},
     "output_type": "execute_result"
    }
   ],
   "source": [
    "score = np.exp(np.log(1 + achievement_np).mean()) - 1\n",
    "score"
   ]
  },
  {
   "cell_type": "code",
   "execution_count": 31,
   "metadata": {},
   "outputs": [],
   "source": [
    "def compute_score_from_path(path):\n",
    "    df = pd.read_json(path_or_buf=path, lines=True)\n",
    "    achievement_names = [a for a in df.columns if 'achievement' in a]\n",
    "    achievement_df = df[achievement_names]\n",
    "    achievement_np = achievement_df.to_numpy()\n",
    "    achievement_np = np.clip(achievement_np, 0, 1)\n",
    "    achievement_np = achievement_np.mean(axis=0) * 100\n",
    "    return np.exp(np.log(1 + achievement_np).mean()) - 1"
   ]
  },
  {
   "cell_type": "code",
   "execution_count": 32,
   "metadata": {},
   "outputs": [],
   "source": [
    "all_scores = [compute_score_from_path(p) for p in full_episode_path]"
   ]
  },
  {
   "cell_type": "code",
   "execution_count": 35,
   "metadata": {},
   "outputs": [
    {
     "data": {
      "text/plain": [
       "10.005392853113134"
      ]
     },
     "execution_count": 35,
     "metadata": {},
     "output_type": "execute_result"
    }
   ],
   "source": [
    "np.mean(all_scores)"
   ]
  },
  {
   "cell_type": "code",
   "execution_count": 36,
   "metadata": {},
   "outputs": [
    {
     "data": {
      "text/plain": [
       "1.9137340842662824"
      ]
     },
     "execution_count": 36,
     "metadata": {},
     "output_type": "execute_result"
    }
   ],
   "source": [
    "np.std(all_scores)"
   ]
  },
  {
   "cell_type": "code",
   "execution_count": 37,
   "metadata": {},
   "outputs": [],
   "source": [
    "def compute_return_from_path(path):\n",
    "    df = pd.read_json(path_or_buf=path, lines=True)\n",
    "    achievement_df = df['reward']\n",
    "    return np.mean(achievement_df)"
   ]
  },
  {
   "cell_type": "code",
   "execution_count": 38,
   "metadata": {},
   "outputs": [],
   "source": [
    "all_scores = [compute_return_from_path(p) for p in full_episode_path]"
   ]
  },
  {
   "cell_type": "code",
   "execution_count": 39,
   "metadata": {},
   "outputs": [
    {
     "name": "stdout",
     "output_type": "stream",
     "text": [
      "7.733497161040056\n",
      "0.5529828232426124\n"
     ]
    }
   ],
   "source": [
    "print(np.mean(all_scores))\n",
    "print(np.std(all_scores))"
   ]
  },
  {
   "cell_type": "code",
   "execution_count": null,
   "metadata": {},
   "outputs": [],
   "source": []
  }
 ],
 "metadata": {
  "kernelspec": {
   "display_name": "Python 3.8.13 ('crafter')",
   "language": "python",
   "name": "python3"
  },
  "language_info": {
   "codemirror_mode": {
    "name": "ipython",
    "version": 3
   },
   "file_extension": ".py",
   "mimetype": "text/x-python",
   "name": "python",
   "nbconvert_exporter": "python",
   "pygments_lexer": "ipython3",
   "version": "3.8.13"
  },
  "orig_nbformat": 4,
  "vscode": {
   "interpreter": {
    "hash": "bb63681384de141f16ba9c6fcf3c43ff328e22f12fbc257110039cb9a8aa2dec"
   }
  }
 },
 "nbformat": 4,
 "nbformat_minor": 2
}
